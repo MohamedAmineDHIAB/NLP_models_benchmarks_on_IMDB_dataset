{
 "cells": [
  {
   "cell_type": "markdown",
   "source": [
    "# ***Applying Transfer learning and using the embedded vectors from Doc2Vec to train an MLP :***"
   ],
   "metadata": {}
  },
  {
   "cell_type": "code",
   "execution_count": 74,
   "source": [
    "import numpy as np\n",
    "import pandas as pd\n",
    "import re\n",
    "from tqdm import tqdm\n",
    "tqdm.pandas()\n",
    "from sklearn.preprocessing import StandardScaler\n",
    "from sklearn.model_selection import train_test_split\n",
    "import torch\n"
   ],
   "outputs": [],
   "metadata": {}
  },
  {
   "cell_type": "markdown",
   "source": [
    "Now that we got our embedded vectors from all the reviews using doc2vec and saved them in a csv file, we first start by importing the embeddings and then we will split these vectors into train set , validation set and test set and then train different MLP models and pick up the one that performs the best on the validation set "
   ],
   "metadata": {}
  },
  {
   "cell_type": "markdown",
   "source": [
    "# ***Getting the arrays of the reviews and the target sentiments :***"
   ],
   "metadata": {}
  },
  {
   "cell_type": "code",
   "execution_count": 75,
   "source": [
    "data_new=pd.read_csv('./data/doc2vec_dataset.csv',sep='\\t')"
   ],
   "outputs": [],
   "metadata": {}
  },
  {
   "cell_type": "code",
   "execution_count": 76,
   "source": [
    "def str_to_float(row):\n",
    "    rev=row['embedded review']\n",
    "    rev=re.sub('[\\n]', '', rev).strip('[]').split()\n",
    "    return(np.array(rev,dtype=str).astype(np.float))"
   ],
   "outputs": [],
   "metadata": {}
  },
  {
   "cell_type": "code",
   "execution_count": 77,
   "source": [
    "data_new['array']=data_new.progress_apply(str_to_float,axis=1)"
   ],
   "outputs": [
    {
     "output_type": "stream",
     "name": "stderr",
     "text": [
      "100%|██████████| 50000/50000 [00:06<00:00, 7832.05it/s]\n"
     ]
    }
   ],
   "metadata": {}
  },
  {
   "cell_type": "code",
   "execution_count": 78,
   "source": [
    "X=np.array(data_new['array'].to_list(),dtype='float64')\n",
    "Y=data_new['sentiment'].to_numpy()"
   ],
   "outputs": [],
   "metadata": {}
  },
  {
   "cell_type": "markdown",
   "source": [
    "# ***Splitting the data and Standardizing using X_train :***"
   ],
   "metadata": {}
  },
  {
   "cell_type": "code",
   "execution_count": 79,
   "source": [
    "X_train,X_val,Y_train,Y_val=train_test_split(X,Y,test_size=0.33,random_state=40)\n",
    "X_test,X_val,Y_test,Y_val=train_test_split(X_val,Y_val,test_size=0.5,random_state=40)\n"
   ],
   "outputs": [],
   "metadata": {}
  },
  {
   "cell_type": "code",
   "execution_count": 80,
   "source": [
    "std=StandardScaler().fit(X=X_train)\n",
    "std"
   ],
   "outputs": [
    {
     "output_type": "execute_result",
     "data": {
      "text/plain": [
       "StandardScaler()"
      ]
     },
     "metadata": {},
     "execution_count": 80
    }
   ],
   "metadata": {}
  },
  {
   "cell_type": "code",
   "execution_count": 81,
   "source": [
    "X_train_std,X_val_std,X_test_std=std.transform(X_train),std.transform(X_val),std.transform(X_test)\n",
    "print(f'mean of training data after standardizing : {X_train_std.mean():.5f}')\n",
    "print('-'*50)\n",
    "print(f'mean of testing data after standardizing : {X_test_std.mean():.5f}')"
   ],
   "outputs": [
    {
     "output_type": "stream",
     "name": "stdout",
     "text": [
      "mean of training data after standardizing : -0.00000\n",
      "--------------------------------------------------\n",
      "mean of testing data after standardizing : -0.00007\n"
     ]
    }
   ],
   "metadata": {}
  },
  {
   "cell_type": "markdown",
   "source": [
    "# ***Training MLP on classifying the embeddings of the reviews :***"
   ],
   "metadata": {}
  },
  {
   "cell_type": "code",
   "execution_count": 82,
   "source": [
    "class Feedforward(torch.nn.Module):\n",
    "        def __init__(self, input_size, hidden_size):\n",
    "            super(Feedforward, self).__init__()\n",
    "            self.input_size = input_size\n",
    "            self.hidden_size  = hidden_size\n",
    "            self.fc1 = torch.nn.Linear(self.input_size, self.hidden_size)\n",
    "            self.relu = torch.nn.ReLU()\n",
    "            self.drop=torch.nn.Dropout(p=0.2)\n",
    "            self.fc2 = torch.nn.Linear(self.hidden_size, 2)\n",
    "            self.sigmoid = torch.nn.Sigmoid()        \n",
    "        def forward(self, x):\n",
    "            hidden = self.fc1(x)\n",
    "            relu = self.relu(hidden)\n",
    "            drop=self.drop(relu)\n",
    "            output = self.fc2(drop)\n",
    "            output = self.sigmoid(output)\n",
    "            return output"
   ],
   "outputs": [],
   "metadata": {}
  },
  {
   "cell_type": "code",
   "execution_count": 83,
   "source": [
    "X_train_std,Y_train=torch.FloatTensor(X_train_std).cuda(),torch.FloatTensor(Y_train).long().cuda()\n",
    "X_val_std,Y_val=torch.FloatTensor(X_val_std).cuda(),torch.FloatTensor(Y_val).long().cuda()\n",
    "X_test_std,Y_test=torch.FloatTensor(X_test_std).cuda(),torch.FloatTensor(Y_test).long().cuda()"
   ],
   "outputs": [],
   "metadata": {}
  },
  {
   "cell_type": "code",
   "execution_count": 84,
   "source": [
    "model = Feedforward(300, 10)\n",
    "criterion = torch.nn.CrossEntropyLoss().cuda()\n",
    "optimizer = torch.optim.SGD(model.parameters(), lr = 0.01)"
   ],
   "outputs": [],
   "metadata": {}
  },
  {
   "cell_type": "code",
   "execution_count": 85,
   "source": [
    "model.cuda()"
   ],
   "outputs": [
    {
     "output_type": "execute_result",
     "data": {
      "text/plain": [
       "Feedforward(\n",
       "  (fc1): Linear(in_features=300, out_features=10, bias=True)\n",
       "  (relu): ReLU()\n",
       "  (drop): Dropout(p=0.2, inplace=False)\n",
       "  (fc2): Linear(in_features=10, out_features=2, bias=True)\n",
       "  (sigmoid): Sigmoid()\n",
       ")"
      ]
     },
     "metadata": {},
     "execution_count": 85
    }
   ],
   "metadata": {}
  },
  {
   "cell_type": "code",
   "execution_count": 86,
   "source": [
    "model.eval()\n",
    "Y_pred = model(X_test_std)\n",
    "before_train = criterion(Y_pred, Y_test.long())\n",
    "print(f'Test loss before training   :   {before_train.item():.3f}')"
   ],
   "outputs": [
    {
     "output_type": "stream",
     "name": "stdout",
     "text": [
      "Test loss before training   :   0.695\n"
     ]
    }
   ],
   "metadata": {}
  },
  {
   "cell_type": "code",
   "execution_count": 87,
   "source": [
    "model.train()\n",
    "epoch = 10000\n",
    "for epoch in range(epoch):    \n",
    "    optimizer.zero_grad()    # Forward pass\n",
    "    y_pred = model(X_train_std)    # Compute Loss\n",
    "    loss = criterion(y_pred, Y_train)\n",
    "   \n",
    "    if epoch%1000==0:\n",
    "        print('-'*50)\n",
    "        print('Epoch {}: train loss: {:.3f}\\n'.format(epoch, loss.item()))    # Backward pass\n",
    "    loss.backward()\n",
    "    optimizer.step()"
   ],
   "outputs": [
    {
     "output_type": "stream",
     "name": "stdout",
     "text": [
      "--------------------------------------------------\n",
      "Epoch 0: train loss: 0.696\n",
      "\n",
      "--------------------------------------------------\n",
      "Epoch 1000: train loss: 0.671\n",
      "\n",
      "--------------------------------------------------\n",
      "Epoch 2000: train loss: 0.631\n",
      "\n",
      "--------------------------------------------------\n",
      "Epoch 3000: train loss: 0.592\n",
      "\n",
      "--------------------------------------------------\n",
      "Epoch 4000: train loss: 0.564\n",
      "\n",
      "--------------------------------------------------\n",
      "Epoch 5000: train loss: 0.547\n",
      "\n",
      "--------------------------------------------------\n",
      "Epoch 6000: train loss: 0.537\n",
      "\n",
      "--------------------------------------------------\n",
      "Epoch 7000: train loss: 0.531\n",
      "\n",
      "--------------------------------------------------\n",
      "Epoch 8000: train loss: 0.525\n",
      "\n",
      "--------------------------------------------------\n",
      "Epoch 9000: train loss: 0.523\n",
      "\n"
     ]
    }
   ],
   "metadata": {}
  },
  {
   "cell_type": "code",
   "execution_count": 88,
   "source": [
    "model.eval()\n",
    "Y_pred = model(X_test_std)\n",
    "before_train = criterion(Y_pred, Y_test)\n",
    "print(f'Test loss after training   :   {before_train.item():.3f}')"
   ],
   "outputs": [
    {
     "output_type": "stream",
     "name": "stdout",
     "text": [
      "Test loss after training   :   0.520\n"
     ]
    }
   ],
   "metadata": {}
  },
  {
   "cell_type": "code",
   "execution_count": 91,
   "source": [
    "print(Y_pred[3])\n",
    "print(Y_test[3])"
   ],
   "outputs": [
    {
     "output_type": "stream",
     "name": "stdout",
     "text": [
      "tensor([0.0524, 0.9568], device='cuda:0', grad_fn=<SelectBackward>)\n",
      "tensor(1, device='cuda:0')\n"
     ]
    }
   ],
   "metadata": {}
  },
  {
   "cell_type": "code",
   "execution_count": null,
   "source": [],
   "outputs": [],
   "metadata": {}
  }
 ],
 "metadata": {
  "orig_nbformat": 4,
  "language_info": {
   "name": "python",
   "version": "3.8.8",
   "mimetype": "text/x-python",
   "codemirror_mode": {
    "name": "ipython",
    "version": 3
   },
   "pygments_lexer": "ipython3",
   "nbconvert_exporter": "python",
   "file_extension": ".py"
  },
  "kernelspec": {
   "name": "python3",
   "display_name": "Python 3.8.8 64-bit ('base': conda)"
  },
  "interpreter": {
   "hash": "74ec93bccee811c650cabd8a679f27f24530bd23ec50915e0d76c126ae7ffac5"
  }
 },
 "nbformat": 4,
 "nbformat_minor": 2
}